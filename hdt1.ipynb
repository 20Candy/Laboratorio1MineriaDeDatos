{
 "cells": [
  {
   "attachments": {},
   "cell_type": "markdown",
   "metadata": {},
   "source": [
    "# Análisis Exploratorio y Regresión Lineal\n",
    "Stefano Aragoni & Carol Arévalo"
   ]
  },
  {
   "attachments": {},
   "cell_type": "markdown",
   "metadata": {},
   "source": [
    "## Importar las librerías"
   ]
  },
  {
   "cell_type": "code",
   "execution_count": 3,
   "metadata": {},
   "outputs": [],
   "source": [
    "import pandas as pd\n",
    "import matplotlib.pyplot as plt\n",
    "import seaborn as sns\n",
    "from pandas_profiling import ProfileReport\n",
    "import datetime\n",
    "\n",
    "from quickda.explore_data import *\n",
    "from quickda.clean_data import *\n",
    "from quickda.explore_numeric import *\n",
    "from quickda.explore_categoric import *\n",
    "from quickda.explore_numeric_categoric import *\n",
    "from quickda.explore_time_series import *"
   ]
  },
  {
   "attachments": {},
   "cell_type": "markdown",
   "metadata": {},
   "source": [
    "## Parte 1\n",
    "### 1.1. Haga una exploración rápida de sus datos para eso haga un resumen de su dataset.\n",
    "\n",
    "El conjunto de datos proporcionado contiene información sobre juegos de béisbol. Las columnas incluyen:"
   ]
  },
  {
   "cell_type": "code",
   "execution_count": 12,
   "metadata": {},
   "outputs": [
    {
     "data": {
      "text/plain": [
       "['attendance',\n",
       " 'away_team',\n",
       " 'away_team_errors',\n",
       " 'away_team_hits',\n",
       " 'away_team_runs',\n",
       " 'boxscore_url',\n",
       " 'date',\n",
       " 'field_type',\n",
       " 'game_duration',\n",
       " 'game_type',\n",
       " 'home_team',\n",
       " 'home_team_errors',\n",
       " 'home_team_hits',\n",
       " 'home_team_runs',\n",
       " 'other_info_string',\n",
       " 'start_time',\n",
       " 'venue']"
      ]
     },
     "execution_count": 12,
     "metadata": {},
     "output_type": "execute_result"
    }
   ],
   "source": [
    "data = pd.read_csv(\"baseball_reference_2016_scrape.csv\")\n",
    "pd.set_option('display.max_columns', None)\n",
    "\n",
    "# Obtener los nombres de las columnas\n",
    "data.columns.values.tolist()"
   ]
  },
  {
   "attachments": {},
   "cell_type": "markdown",
   "metadata": {},
   "source": [
    "Asimismo, a continuación se presenta la cantidad de columas y filas del dataset."
   ]
  },
  {
   "cell_type": "code",
   "execution_count": 19,
   "metadata": {},
   "outputs": [
    {
     "name": "stdout",
     "output_type": "stream",
     "text": [
      "(2463, 17)\n"
     ]
    }
   ],
   "source": [
    "#Obtener el número de filas y columnas\n",
    "print(data.shape)"
   ]
  },
  {
   "attachments": {},
   "cell_type": "markdown",
   "metadata": {},
   "source": [
    "A continuación se presenta el resumen de las columnas mencionadas. Esta imagen presenta información sobre la cantidad de entradas (no vacías) relacionadas a cada columna, así como el tipo de información que almacena."
   ]
  },
  {
   "cell_type": "code",
   "execution_count": 14,
   "metadata": {},
   "outputs": [
    {
     "name": "stdout",
     "output_type": "stream",
     "text": [
      "<class 'pandas.core.frame.DataFrame'>\n",
      "RangeIndex: 2463 entries, 0 to 2462\n",
      "Data columns (total 17 columns):\n",
      " #   Column             Non-Null Count  Dtype  \n",
      "---  ------             --------------  -----  \n",
      " 0   attendance         2463 non-null   object \n",
      " 1   away_team          2463 non-null   object \n",
      " 2   away_team_errors   2463 non-null   int64  \n",
      " 3   away_team_hits     2463 non-null   int64  \n",
      " 4   away_team_runs     2463 non-null   int64  \n",
      " 5   boxscore_url       2463 non-null   object \n",
      " 6   date               2463 non-null   object \n",
      " 7   field_type         0 non-null      float64\n",
      " 8   game_duration      2463 non-null   object \n",
      " 9   game_type          2460 non-null   object \n",
      " 10  home_team          2463 non-null   object \n",
      " 11  home_team_errors   2463 non-null   int64  \n",
      " 12  home_team_hits     2463 non-null   int64  \n",
      " 13  home_team_runs     2463 non-null   int64  \n",
      " 14  other_info_string  2463 non-null   object \n",
      " 15  start_time         2463 non-null   object \n",
      " 16  venue              2463 non-null   object \n",
      "dtypes: float64(1), int64(6), object(10)\n",
      "memory usage: 327.2+ KB\n",
      "None\n"
     ]
    }
   ],
   "source": [
    "# Obtener información general sobre el conjunto de data\n",
    "print(data.info())"
   ]
  },
  {
   "attachments": {},
   "cell_type": "markdown",
   "metadata": {},
   "source": [
    "Asimismo, se presenta un resumen estadístico de las columnas numéricas, que incluye promedio, desviación estándar, y otros datos."
   ]
  },
  {
   "cell_type": "code",
   "execution_count": 15,
   "metadata": {},
   "outputs": [
    {
     "name": "stdout",
     "output_type": "stream",
     "text": [
      "       away_team_errors  away_team_hits  away_team_runs  field_type  \\\n",
      "count       2463.000000     2463.000000     2463.000000         0.0   \n",
      "mean           0.580593        8.764515        4.413723         NaN   \n",
      "std            0.793391        3.511581        3.104556         NaN   \n",
      "min            0.000000        1.000000        0.000000         NaN   \n",
      "25%            0.000000        6.000000        2.000000         NaN   \n",
      "50%            0.000000        8.000000        4.000000         NaN   \n",
      "75%            1.000000       11.000000        6.000000         NaN   \n",
      "max            5.000000       22.000000       21.000000         NaN   \n",
      "\n",
      "       home_team_errors  home_team_hits  home_team_runs  \n",
      "count       2463.000000     2463.000000     2463.000000  \n",
      "mean           0.585871        8.611855        4.519691  \n",
      "std            0.805542        3.436965        3.111572  \n",
      "min            0.000000        0.000000        0.000000  \n",
      "25%            0.000000        6.000000        2.000000  \n",
      "50%            0.000000        8.000000        4.000000  \n",
      "75%            1.000000       11.000000        6.000000  \n",
      "max            5.000000       22.000000       17.000000  \n"
     ]
    }
   ],
   "source": [
    "# Obtener un resumen estadístico de las columnas numéricas\n",
    "print(data.describe())"
   ]
  },
  {
   "attachments": {},
   "cell_type": "markdown",
   "metadata": {},
   "source": [
    "Finalmente, a continuación se presentan los nombres de las respectivas columnas, así como los primeros 5 datos almacenados en el dataset."
   ]
  },
  {
   "cell_type": "code",
   "execution_count": 16,
   "metadata": {},
   "outputs": [
    {
     "name": "stdout",
     "output_type": "stream",
     "text": [
      "  attendance              away_team  away_team_errors  away_team_hits  \\\n",
      "0   40,030']          New York Mets                 1               7   \n",
      "1   21,621']  Philadelphia Phillies                 0               5   \n",
      "2   12,622']        Minnesota Twins                 0               5   \n",
      "3   18,531']   Washington Nationals                 0               8   \n",
      "4   18,572']       Colorado Rockies                 1               8   \n",
      "\n",
      "   away_team_runs                                       boxscore_url  \\\n",
      "0               3  https://www.baseball-reference.com/boxes/KCA/K...   \n",
      "1               2  https://www.baseball-reference.com/boxes/CIN/C...   \n",
      "2               2  https://www.baseball-reference.com/boxes/BAL/B...   \n",
      "3               3  https://www.baseball-reference.com/boxes/ATL/A...   \n",
      "4               4  https://www.baseball-reference.com/boxes/ARI/A...   \n",
      "\n",
      "                       date  field_type game_duration             game_type  \\\n",
      "0     Sunday, April 3, 2016         NaN        : 3:13  Night Game, on grass   \n",
      "1  Wednesday, April 6, 2016         NaN        : 2:23  Night Game, on grass   \n",
      "2  Wednesday, April 6, 2016         NaN        : 3:11  Night Game, on grass   \n",
      "3  Wednesday, April 6, 2016         NaN        : 2:53  Night Game, on grass   \n",
      "4  Wednesday, April 6, 2016         NaN        : 2:39    Day Game, on grass   \n",
      "\n",
      "              home_team  home_team_errors  home_team_hits  home_team_runs  \\\n",
      "0    Kansas City Royals                 0               9               4   \n",
      "1       Cincinnati Reds                 0               8               3   \n",
      "2     Baltimore Orioles                 0               9               4   \n",
      "3        Atlanta Braves                 1               8               1   \n",
      "4  Arizona Diamondbacks                 0               8               3   \n",
      "\n",
      "                                   other_info_string  \\\n",
      "0  <!--  \\n    <div class=\"section_content\" id=\"d...   \n",
      "1  <!--  \\n    <div class=\"section_content\" id=\"d...   \n",
      "2  <!--  \\n    <div class=\"section_content\" id=\"d...   \n",
      "3  <!--  \\n    <div class=\"section_content\" id=\"d...   \n",
      "4  <!--  \\n    <div class=\"section_content\" id=\"d...   \n",
      "\n",
      "                     start_time                          venue  \n",
      "0   Start Time: 7:38 p.m. Local             : Kauffman Stadium  \n",
      "1   Start Time: 7:11 p.m. Local     : Great American Ball Park  \n",
      "2   Start Time: 7:07 p.m. Local  : Oriole Park at Camden Yards  \n",
      "3   Start Time: 7:10 p.m. Local                 : Turner Field  \n",
      "4  Start Time: 12:40 p.m. Local                  : Chase Field  \n"
     ]
    }
   ],
   "source": [
    "head = data.head()\n",
    "print(head)"
   ]
  },
  {
   "attachments": {},
   "cell_type": "markdown",
   "metadata": {},
   "source": [
    "### 1.2 Diga el tipo de cada una de las variables del dataset (cualitativa o categórica, cuantitativa continua, cuantitativa discreta)\n",
    "\n",
    "![TIPOS VARIABLE](image1.png \"Tipos Variable\")\n"
   ]
  },
  {
   "attachments": {},
   "cell_type": "markdown",
   "metadata": {},
   "source": [
    "### 1.3. Incluya los gráficos exploratorios siendo consecuentes con el tipo de variable que están representando."
   ]
  }
 ],
 "metadata": {
  "kernelspec": {
   "display_name": "Python 3",
   "language": "python",
   "name": "python3"
  },
  "language_info": {
   "codemirror_mode": {
    "name": "ipython",
    "version": 3
   },
   "file_extension": ".py",
   "mimetype": "text/x-python",
   "name": "python",
   "nbconvert_exporter": "python",
   "pygments_lexer": "ipython3",
   "version": "3.9.2"
  },
  "orig_nbformat": 4,
  "vscode": {
   "interpreter": {
    "hash": "397704579725e15f5c7cb49fe5f0341eb7531c82d19f2c29d197e8b64ab5776b"
   }
  }
 },
 "nbformat": 4,
 "nbformat_minor": 2
}
